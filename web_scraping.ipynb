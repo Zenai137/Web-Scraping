{
 "cells": [
  {
   "cell_type": "markdown",
   "metadata": {},
   "source": [
    "# Web Scraping: Beautiful Soup and Requests"
   ]
  },
  {
   "cell_type": "markdown",
   "metadata": {},
   "source": [
    "## GitHub"
   ]
  },
  {
   "cell_type": "code",
   "execution_count": null,
   "metadata": {},
   "outputs": [],
   "source": [
    "# Import requests and BeautifulSoup to webscrap a webpage.\n",
    "import requests\n",
    "from bs4 import BeautifulSoup as bs\n",
    "\n",
    "#Create an input and url for the user with the information you seek.\n",
    "github_user = input('Input Github User: ')\n",
    "url = 'https://github.com/'+github_user\n",
    "\n",
    "#request.get() is used to target the url. bs(r.content, 'html.parser') are used\n",
    "#to parse all the content at the url\n",
    "r = requests.get(url)\n",
    "\n",
    "soup = bs(r.content, 'html.parser')\n",
    "\n",
    "#target the image file that you want.\n",
    "#specify which image using 'alt'.\n",
    "#['src'] gets the image link instead of all of img code.\n",
    "profile_image = soup.find('img', {'alt' : 'Avatar'})['src']\n",
    "print(profile_image)"
   ]
  }
 ],
 "metadata": {
  "kernelspec": {
   "display_name": "Python 3",
   "language": "python",
   "name": "python3"
  },
  "language_info": {
   "codemirror_mode": {
    "name": "ipython",
    "version": 3
   },
   "file_extension": ".py",
   "mimetype": "text/x-python",
   "name": "python",
   "nbconvert_exporter": "python",
   "pygments_lexer": "ipython3",
   "version": "3.8.5"
  }
 },
 "nbformat": 4,
 "nbformat_minor": 4
}
